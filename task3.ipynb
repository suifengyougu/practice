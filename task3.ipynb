{
 "cells": [
  {
   "cell_type": "markdown",
   "metadata": {},
   "source": [
    "任务3：用逻辑回归、svm和决策树；随机森林和XGBoost进行模型构建，评分方式任意，如准确率等。（不需要考虑模型调参）\n",
    "\n",
    "参考 <a  href=\"https://blog.csdn.net/weixin_43590088/article/details/99168421\">Smilhe_的文章 </a> "
   ]
  },
  {
   "cell_type": "code",
   "execution_count": 19,
   "metadata": {},
   "outputs": [],
   "source": [
    "#导入模型\n",
    "from sklearn.linear_model import  LogisticRegression\n",
    "from sklearn.svm import SVC\n",
    "from sklearn.tree import DecisionTreeClassifier\n",
    "from sklearn.ensemble import RandomForestClassifier\n",
    "lr = LogisticRegression(random_state=2018,tol=1e-6)\n",
    "svm = SVC(probability=True,random_state=2018,tol=1e-6)\n",
    "tree = DecisionTreeClassifier(random_state=2018)\n",
    "forest = RandomForestClassifier(n_estimators=100,random_state=2018)\n",
    "models = {'lr':lr,'svm':svm,'tree':tree,'forest':forest}"
   ]
  },
  {
   "cell_type": "code",
   "execution_count": 14,
   "metadata": {},
   "outputs": [],
   "source": [
    "import pandas as pd\n",
    "train=pd.read_csv('train.csv',encoding='gbk')\n",
    "test=pd.read_csv('test.csv',encoding='gbk')"
   ]
  },
  {
   "cell_type": "code",
   "execution_count": 15,
   "metadata": {},
   "outputs": [],
   "source": [
    "train=train.drop(['latest_query_time','loans_latest_time'],axis=1)\n",
    "test=test.drop(['latest_query_time','loans_latest_time'],axis=1)"
   ]
  },
  {
   "cell_type": "code",
   "execution_count": 16,
   "metadata": {},
   "outputs": [],
   "source": [
    "X_train=train.drop('status',axis=1)\n",
    "X_test=test.drop('status',axis=1)\n",
    "y_train=train['status']\n",
    "y_test=test['status']"
   ]
  },
  {
   "cell_type": "code",
   "execution_count": 20,
   "metadata": {},
   "outputs": [],
   "source": [
    "from sklearn.metrics import recall_score,precision_score,f1_score,accuracy_score\n",
    "def metrics(models,X_train,X_test,y_train,y_test):\n",
    "    results = pd.DataFrame(columns=['recall_score','precision_score','f1_score','accuracy_score'])\n",
    "    for model in models:\n",
    "        name = str(model)\n",
    "        result = []\n",
    "        model = models[model]\n",
    "        model.fit(X_train,y_train)\n",
    "        y_pre = model.predict(X_test)\n",
    "        result.append(recall_score(y_pre,y_test))\n",
    "        result.append(precision_score(y_pre,y_test))\n",
    "        result.append(f1_score(y_pre,y_test))\n",
    "        result.append(accuracy_score(y_pre,y_test))\n",
    "        results.loc[name] = result\n",
    "    return results\n"
   ]
  },
  {
   "cell_type": "code",
   "execution_count": 21,
   "metadata": {},
   "outputs": [
    {
     "name": "stderr",
     "output_type": "stream",
     "text": [
      "F:\\anaconda2\\lib\\site-packages\\sklearn\\metrics\\classification.py:1137: UndefinedMetricWarning: Recall is ill-defined and being set to 0.0 due to no true samples.\n",
      "  'recall', 'true', average, warn_for)\n",
      "F:\\anaconda2\\lib\\site-packages\\sklearn\\metrics\\classification.py:1137: UndefinedMetricWarning: F-score is ill-defined and being set to 0.0 due to no true samples.\n",
      "  'recall', 'true', average, warn_for)\n"
     ]
    },
    {
     "data": {
      "text/html": [
       "<div>\n",
       "<style scoped>\n",
       "    .dataframe tbody tr th:only-of-type {\n",
       "        vertical-align: middle;\n",
       "    }\n",
       "\n",
       "    .dataframe tbody tr th {\n",
       "        vertical-align: top;\n",
       "    }\n",
       "\n",
       "    .dataframe thead th {\n",
       "        text-align: right;\n",
       "    }\n",
       "</style>\n",
       "<table border=\"1\" class=\"dataframe\">\n",
       "  <thead>\n",
       "    <tr style=\"text-align: right;\">\n",
       "      <th></th>\n",
       "      <th>recall_score</th>\n",
       "      <th>precision_score</th>\n",
       "      <th>f1_score</th>\n",
       "      <th>accuracy_score</th>\n",
       "    </tr>\n",
       "  </thead>\n",
       "  <tbody>\n",
       "    <tr>\n",
       "      <th>lr</th>\n",
       "      <td>0.000000</td>\n",
       "      <td>0.000000</td>\n",
       "      <td>0.000000</td>\n",
       "      <td>0.737001</td>\n",
       "    </tr>\n",
       "    <tr>\n",
       "      <th>svm</th>\n",
       "      <td>0.000000</td>\n",
       "      <td>0.000000</td>\n",
       "      <td>0.000000</td>\n",
       "      <td>0.737001</td>\n",
       "    </tr>\n",
       "    <tr>\n",
       "      <th>tree</th>\n",
       "      <td>0.441595</td>\n",
       "      <td>0.444126</td>\n",
       "      <td>0.442857</td>\n",
       "      <td>0.706104</td>\n",
       "    </tr>\n",
       "    <tr>\n",
       "      <th>forest</th>\n",
       "      <td>0.719008</td>\n",
       "      <td>0.249284</td>\n",
       "      <td>0.370213</td>\n",
       "      <td>0.776940</td>\n",
       "    </tr>\n",
       "  </tbody>\n",
       "</table>\n",
       "</div>"
      ],
      "text/plain": [
       "        recall_score  precision_score  f1_score  accuracy_score\n",
       "lr          0.000000         0.000000  0.000000        0.737001\n",
       "svm         0.000000         0.000000  0.000000        0.737001\n",
       "tree        0.441595         0.444126  0.442857        0.706104\n",
       "forest      0.719008         0.249284  0.370213        0.776940"
      ]
     },
     "execution_count": 21,
     "metadata": {},
     "output_type": "execute_result"
    }
   ],
   "source": [
    "metrics(models,X_train,X_test,y_train,y_test)"
   ]
  }
 ],
 "metadata": {
  "kernelspec": {
   "display_name": "Python 3",
   "language": "python",
   "name": "python3"
  },
  "language_info": {
   "codemirror_mode": {
    "name": "ipython",
    "version": 3
   },
   "file_extension": ".py",
   "mimetype": "text/x-python",
   "name": "python",
   "nbconvert_exporter": "python",
   "pygments_lexer": "ipython3",
   "version": "3.6.5"
  }
 },
 "nbformat": 4,
 "nbformat_minor": 2
}
